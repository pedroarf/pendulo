{
 "cells": [
  {
   "cell_type": "code",
   "execution_count": null,
   "metadata": {
    "collapsed": true
   },
   "outputs": [],
   "source": [
    "from scipy.integrate import odeint\n",
    "import math\n",
    "import matplotlib.pyplot as plt\n",
    "import numpy as np\n",
    "\n",
    "m=\n",
    "l=\n",
    "alpha0=        #em radianos!!!\n",
    "omega=(g/l)**1/2\n",
    "p=m*g\n",
    "ci=[alpha0,0]\n",
    "g=9.8\n",
    "\n",
    "def pendulo(A,tempo):\n",
    "    ci[0]=alpha\n",
    "    ci[1]=omega\n",
    "    dalphadt=omega\n",
    "    domegadt=\n",
    "    \n",
    "    return[dalphadt,domegadt]\n",
    "\n",
    "t=np.arange(0,2,0.001)\n",
    "\n",
    "sol= odeint(pendulo,ci,t)\n",
    "\n",
    "VxFi=(sol[:, 1])[-1]\n",
    "VyFi=(sol[:, 1])[-1]\n",
    "VFi = sqrt(VxFi*2+VyFi*2)\n",
    "\n",
    "alphaI=  #em radianos\n",
    "omegaI= v_final/l\n",
    "cd=[alphaI,omegaI]\n",
    "\n",
    "sol2=odeint(pendulo,cd,t)\n",
    "\n",
    "X=[]\n",
    "Y=[]\n",
    "N=[]\n",
    "for i in range(0,len(sol2[:,0])):\n",
    "    alpha=(sol2[:,0])[i]\n",
    "    omega=(sol2[:,1])[i]\n",
    "    X.append(l*cos(alpha))\n",
    "    Y.append(l*sin(alpha))\n",
    "    N.append(m*(omega**2)*l-m*g*sin(alpha))\n",
    "\n",
    "plt.plot(X,Y)\n",
    "plt.title('Trajetória do pendulo')\n",
    "plt.ylabel(\"Posição do pêndulo em Y\")\n",
    "plt.xlabel(\"Posição do pêndulo em X\")\n",
    "plt.show()"
   ]
  }
 ],
 "metadata": {
  "kernelspec": {
   "display_name": "Python 3",
   "language": "python",
   "name": "python3"
  },
  "language_info": {
   "codemirror_mode": {
    "name": "ipython",
    "version": 3
   },
   "file_extension": ".py",
   "mimetype": "text/x-python",
   "name": "python",
   "nbconvert_exporter": "python",
   "pygments_lexer": "ipython3",
   "version": "3.6.1"
  }
 },
 "nbformat": 4,
 "nbformat_minor": 2
}
